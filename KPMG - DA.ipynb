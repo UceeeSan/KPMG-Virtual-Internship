{
 "cells": [
  {
   "cell_type": "code",
   "execution_count": 15,
   "id": "44f18973",
   "metadata": {},
   "outputs": [],
   "source": [
    "import pandas as pd\n",
    "import matplotlib.pyplot as plt\n",
    "import seaborn as sns\n",
    "import numpy as np"
   ]
  },
  {
   "cell_type": "code",
   "execution_count": 16,
   "id": "6797ab56",
   "metadata": {},
   "outputs": [],
   "source": [
    "xlsx_file= pd.ExcelFile(\"KPMG_CleanedData.xlsx\")"
   ]
  },
  {
   "cell_type": "code",
   "execution_count": 17,
   "id": "6f7d7e93",
   "metadata": {},
   "outputs": [
    {
     "data": {
      "text/plain": [
       "['Customer_address', 'Customer_Demography', 'Transaction', 'New_customer']"
      ]
     },
     "execution_count": 17,
     "metadata": {},
     "output_type": "execute_result"
    }
   ],
   "source": [
    "xlsx_file.sheet_names"
   ]
  },
  {
   "cell_type": "code",
   "execution_count": 18,
   "id": "c8dd867b",
   "metadata": {},
   "outputs": [],
   "source": [
    "df_cadd = pd.read_excel(xlsx_file,sheet_name='Customer_address')"
   ]
  },
  {
   "cell_type": "code",
   "execution_count": 19,
   "id": "7749405e",
   "metadata": {},
   "outputs": [
    {
     "data": {
      "text/html": [
       "<div>\n",
       "<style scoped>\n",
       "    .dataframe tbody tr th:only-of-type {\n",
       "        vertical-align: middle;\n",
       "    }\n",
       "\n",
       "    .dataframe tbody tr th {\n",
       "        vertical-align: top;\n",
       "    }\n",
       "\n",
       "    .dataframe thead th {\n",
       "        text-align: right;\n",
       "    }\n",
       "</style>\n",
       "<table border=\"1\" class=\"dataframe\">\n",
       "  <thead>\n",
       "    <tr style=\"text-align: right;\">\n",
       "      <th></th>\n",
       "      <th>customer_id</th>\n",
       "      <th>address</th>\n",
       "      <th>postcode</th>\n",
       "      <th>state</th>\n",
       "      <th>country</th>\n",
       "      <th>property_valuation</th>\n",
       "    </tr>\n",
       "  </thead>\n",
       "  <tbody>\n",
       "    <tr>\n",
       "      <th>0</th>\n",
       "      <td>1</td>\n",
       "      <td>060 Morning Avenue</td>\n",
       "      <td>2016</td>\n",
       "      <td>NSW</td>\n",
       "      <td>Australia</td>\n",
       "      <td>10</td>\n",
       "    </tr>\n",
       "    <tr>\n",
       "      <th>1</th>\n",
       "      <td>2</td>\n",
       "      <td>6 Meadow Vale Court</td>\n",
       "      <td>2153</td>\n",
       "      <td>NSW</td>\n",
       "      <td>Australia</td>\n",
       "      <td>10</td>\n",
       "    </tr>\n",
       "  </tbody>\n",
       "</table>\n",
       "</div>"
      ],
      "text/plain": [
       "   customer_id              address  postcode state    country  \\\n",
       "0            1   060 Morning Avenue      2016   NSW  Australia   \n",
       "1            2  6 Meadow Vale Court      2153   NSW  Australia   \n",
       "\n",
       "   property_valuation  \n",
       "0                  10  \n",
       "1                  10  "
      ]
     },
     "execution_count": 19,
     "metadata": {},
     "output_type": "execute_result"
    }
   ],
   "source": [
    "df_cadd.head(2)"
   ]
  },
  {
   "cell_type": "code",
   "execution_count": 20,
   "id": "4d4f7e1d",
   "metadata": {},
   "outputs": [],
   "source": [
    "df_cdemo=pd.read_excel(xlsx_file,sheet_name='Customer_Demography')"
   ]
  },
  {
   "cell_type": "code",
   "execution_count": 21,
   "id": "1a182883",
   "metadata": {},
   "outputs": [
    {
     "data": {
      "text/html": [
       "<div>\n",
       "<style scoped>\n",
       "    .dataframe tbody tr th:only-of-type {\n",
       "        vertical-align: middle;\n",
       "    }\n",
       "\n",
       "    .dataframe tbody tr th {\n",
       "        vertical-align: top;\n",
       "    }\n",
       "\n",
       "    .dataframe thead th {\n",
       "        text-align: right;\n",
       "    }\n",
       "</style>\n",
       "<table border=\"1\" class=\"dataframe\">\n",
       "  <thead>\n",
       "    <tr style=\"text-align: right;\">\n",
       "      <th></th>\n",
       "      <th>customer_id</th>\n",
       "      <th>first_name</th>\n",
       "      <th>last_name</th>\n",
       "      <th>gender</th>\n",
       "      <th>past_3_years_bike_related_purchases</th>\n",
       "      <th>DOB</th>\n",
       "      <th>job_title</th>\n",
       "      <th>job_industry_category</th>\n",
       "      <th>wealth_segment</th>\n",
       "      <th>deceased_indicator</th>\n",
       "      <th>owns_car</th>\n",
       "      <th>tenure</th>\n",
       "      <th>DOB - Copy</th>\n",
       "      <th>Age</th>\n",
       "    </tr>\n",
       "  </thead>\n",
       "  <tbody>\n",
       "    <tr>\n",
       "      <th>0</th>\n",
       "      <td>1</td>\n",
       "      <td>Laraine</td>\n",
       "      <td>Medendorp</td>\n",
       "      <td>F</td>\n",
       "      <td>93</td>\n",
       "      <td>1953-10-12</td>\n",
       "      <td>Executive Secretary</td>\n",
       "      <td>Health</td>\n",
       "      <td>Mass Customer</td>\n",
       "      <td>N</td>\n",
       "      <td>Yes</td>\n",
       "      <td>11</td>\n",
       "      <td>1953-10-12</td>\n",
       "      <td>69</td>\n",
       "    </tr>\n",
       "    <tr>\n",
       "      <th>1</th>\n",
       "      <td>2</td>\n",
       "      <td>Eli</td>\n",
       "      <td>Bockman</td>\n",
       "      <td>M</td>\n",
       "      <td>81</td>\n",
       "      <td>1980-12-16</td>\n",
       "      <td>Administrative Officer</td>\n",
       "      <td>Financial Services</td>\n",
       "      <td>Mass Customer</td>\n",
       "      <td>N</td>\n",
       "      <td>Yes</td>\n",
       "      <td>16</td>\n",
       "      <td>1980-12-16</td>\n",
       "      <td>42</td>\n",
       "    </tr>\n",
       "  </tbody>\n",
       "</table>\n",
       "</div>"
      ],
      "text/plain": [
       "   customer_id first_name  last_name gender  \\\n",
       "0            1    Laraine  Medendorp      F   \n",
       "1            2        Eli    Bockman      M   \n",
       "\n",
       "   past_3_years_bike_related_purchases        DOB               job_title  \\\n",
       "0                                   93 1953-10-12     Executive Secretary   \n",
       "1                                   81 1980-12-16  Administrative Officer   \n",
       "\n",
       "  job_industry_category wealth_segment deceased_indicator owns_car  tenure  \\\n",
       "0                Health  Mass Customer                  N      Yes      11   \n",
       "1    Financial Services  Mass Customer                  N      Yes      16   \n",
       "\n",
       "  DOB - Copy  Age  \n",
       "0 1953-10-12   69  \n",
       "1 1980-12-16   42  "
      ]
     },
     "execution_count": 21,
     "metadata": {},
     "output_type": "execute_result"
    }
   ],
   "source": [
    "df_cdemo.head(2)"
   ]
  },
  {
   "cell_type": "code",
   "execution_count": 22,
   "id": "14f0cec4",
   "metadata": {},
   "outputs": [],
   "source": [
    "df_tran = pd.read_excel(xlsx_file,sheet_name='Transaction')"
   ]
  },
  {
   "cell_type": "code",
   "execution_count": 23,
   "id": "9aeed864",
   "metadata": {},
   "outputs": [
    {
     "data": {
      "text/html": [
       "<div>\n",
       "<style scoped>\n",
       "    .dataframe tbody tr th:only-of-type {\n",
       "        vertical-align: middle;\n",
       "    }\n",
       "\n",
       "    .dataframe tbody tr th {\n",
       "        vertical-align: top;\n",
       "    }\n",
       "\n",
       "    .dataframe thead th {\n",
       "        text-align: right;\n",
       "    }\n",
       "</style>\n",
       "<table border=\"1\" class=\"dataframe\">\n",
       "  <thead>\n",
       "    <tr style=\"text-align: right;\">\n",
       "      <th></th>\n",
       "      <th>transaction_id</th>\n",
       "      <th>product_id</th>\n",
       "      <th>customer_id</th>\n",
       "      <th>transaction_date</th>\n",
       "      <th>online_order</th>\n",
       "      <th>order_status</th>\n",
       "      <th>brand</th>\n",
       "      <th>product_line</th>\n",
       "      <th>product_class</th>\n",
       "      <th>product_size</th>\n",
       "      <th>list_price</th>\n",
       "      <th>standard_cost</th>\n",
       "    </tr>\n",
       "  </thead>\n",
       "  <tbody>\n",
       "    <tr>\n",
       "      <th>0</th>\n",
       "      <td>1</td>\n",
       "      <td>2</td>\n",
       "      <td>2950</td>\n",
       "      <td>2017-02-25</td>\n",
       "      <td>False</td>\n",
       "      <td>Approved</td>\n",
       "      <td>Solex</td>\n",
       "      <td>Standard</td>\n",
       "      <td>medium</td>\n",
       "      <td>medium</td>\n",
       "      <td>71.49</td>\n",
       "      <td>53.62</td>\n",
       "    </tr>\n",
       "    <tr>\n",
       "      <th>1</th>\n",
       "      <td>2</td>\n",
       "      <td>3</td>\n",
       "      <td>3120</td>\n",
       "      <td>2017-05-21</td>\n",
       "      <td>True</td>\n",
       "      <td>Approved</td>\n",
       "      <td>Trek Bicycles</td>\n",
       "      <td>Standard</td>\n",
       "      <td>medium</td>\n",
       "      <td>large</td>\n",
       "      <td>2091.47</td>\n",
       "      <td>388.92</td>\n",
       "    </tr>\n",
       "  </tbody>\n",
       "</table>\n",
       "</div>"
      ],
      "text/plain": [
       "   transaction_id  product_id  customer_id transaction_date  online_order  \\\n",
       "0               1           2         2950       2017-02-25         False   \n",
       "1               2           3         3120       2017-05-21          True   \n",
       "\n",
       "  order_status          brand product_line product_class product_size  \\\n",
       "0     Approved          Solex     Standard        medium       medium   \n",
       "1     Approved  Trek Bicycles     Standard        medium        large   \n",
       "\n",
       "   list_price  standard_cost  \n",
       "0       71.49          53.62  \n",
       "1     2091.47         388.92  "
      ]
     },
     "execution_count": 23,
     "metadata": {},
     "output_type": "execute_result"
    }
   ],
   "source": [
    "df_tran.head(2)"
   ]
  },
  {
   "cell_type": "code",
   "execution_count": 24,
   "id": "03580c71",
   "metadata": {},
   "outputs": [],
   "source": [
    "df_newC = pd.read_excel(xlsx_file,sheet_name='New_customer')"
   ]
  },
  {
   "cell_type": "code",
   "execution_count": 25,
   "id": "ff8767b6",
   "metadata": {
    "scrolled": true
   },
   "outputs": [
    {
     "data": {
      "text/html": [
       "<div>\n",
       "<style scoped>\n",
       "    .dataframe tbody tr th:only-of-type {\n",
       "        vertical-align: middle;\n",
       "    }\n",
       "\n",
       "    .dataframe tbody tr th {\n",
       "        vertical-align: top;\n",
       "    }\n",
       "\n",
       "    .dataframe thead th {\n",
       "        text-align: right;\n",
       "    }\n",
       "</style>\n",
       "<table border=\"1\" class=\"dataframe\">\n",
       "  <thead>\n",
       "    <tr style=\"text-align: right;\">\n",
       "      <th></th>\n",
       "      <th>first_name</th>\n",
       "      <th>last_name</th>\n",
       "      <th>gender</th>\n",
       "      <th>past_3_years_bike_related_purchases</th>\n",
       "      <th>DOB</th>\n",
       "      <th>job_title</th>\n",
       "      <th>job_industry_category</th>\n",
       "      <th>wealth_segment</th>\n",
       "      <th>deceased_indicator</th>\n",
       "      <th>owns_car</th>\n",
       "      <th>...</th>\n",
       "      <th>property_valuation</th>\n",
       "      <th>Column17</th>\n",
       "      <th>Column18</th>\n",
       "      <th>Column19</th>\n",
       "      <th>Column20</th>\n",
       "      <th>Column21</th>\n",
       "      <th>Rank</th>\n",
       "      <th>Value</th>\n",
       "      <th>DOB - Copy</th>\n",
       "      <th>Age</th>\n",
       "    </tr>\n",
       "  </thead>\n",
       "  <tbody>\n",
       "    <tr>\n",
       "      <th>0</th>\n",
       "      <td>Chickie</td>\n",
       "      <td>Brister</td>\n",
       "      <td>M</td>\n",
       "      <td>86</td>\n",
       "      <td>1957-07-12</td>\n",
       "      <td>General Manager</td>\n",
       "      <td>Manufacturing</td>\n",
       "      <td>Mass Customer</td>\n",
       "      <td>N</td>\n",
       "      <td>Yes</td>\n",
       "      <td>...</td>\n",
       "      <td>6</td>\n",
       "      <td>0.56</td>\n",
       "      <td>0.70</td>\n",
       "      <td>0.8750</td>\n",
       "      <td>0.743750</td>\n",
       "      <td>1</td>\n",
       "      <td>1</td>\n",
       "      <td>1.71875</td>\n",
       "      <td>1957-07-12</td>\n",
       "      <td>66.0</td>\n",
       "    </tr>\n",
       "    <tr>\n",
       "      <th>1</th>\n",
       "      <td>Morly</td>\n",
       "      <td>Genery</td>\n",
       "      <td>M</td>\n",
       "      <td>69</td>\n",
       "      <td>1970-03-22</td>\n",
       "      <td>Structural Engineer</td>\n",
       "      <td>Property</td>\n",
       "      <td>Mass Customer</td>\n",
       "      <td>N</td>\n",
       "      <td>No</td>\n",
       "      <td>...</td>\n",
       "      <td>11</td>\n",
       "      <td>0.89</td>\n",
       "      <td>0.89</td>\n",
       "      <td>1.1125</td>\n",
       "      <td>0.945625</td>\n",
       "      <td>1</td>\n",
       "      <td>1</td>\n",
       "      <td>1.71875</td>\n",
       "      <td>1970-03-22</td>\n",
       "      <td>53.0</td>\n",
       "    </tr>\n",
       "  </tbody>\n",
       "</table>\n",
       "<p>2 rows × 25 columns</p>\n",
       "</div>"
      ],
      "text/plain": [
       "  first_name last_name gender  past_3_years_bike_related_purchases        DOB  \\\n",
       "0    Chickie   Brister      M                                   86 1957-07-12   \n",
       "1      Morly    Genery      M                                   69 1970-03-22   \n",
       "\n",
       "             job_title job_industry_category wealth_segment  \\\n",
       "0      General Manager         Manufacturing  Mass Customer   \n",
       "1  Structural Engineer              Property  Mass Customer   \n",
       "\n",
       "  deceased_indicator owns_car  ...  property_valuation Column17  Column18  \\\n",
       "0                  N      Yes  ...                   6     0.56      0.70   \n",
       "1                  N       No  ...                  11     0.89      0.89   \n",
       "\n",
       "  Column19  Column20  Column21  Rank    Value  DOB - Copy   Age  \n",
       "0   0.8750  0.743750         1     1  1.71875  1957-07-12  66.0  \n",
       "1   1.1125  0.945625         1     1  1.71875  1970-03-22  53.0  \n",
       "\n",
       "[2 rows x 25 columns]"
      ]
     },
     "execution_count": 25,
     "metadata": {},
     "output_type": "execute_result"
    }
   ],
   "source": [
    "df_newC.head(2)"
   ]
  },
  {
   "cell_type": "markdown",
   "id": "5ab49585",
   "metadata": {},
   "source": [
    "### Data Preperation"
   ]
  },
  {
   "cell_type": "code",
   "execution_count": 26,
   "id": "2e102171",
   "metadata": {},
   "outputs": [
    {
     "data": {
      "text/html": [
       "<div>\n",
       "<style scoped>\n",
       "    .dataframe tbody tr th:only-of-type {\n",
       "        vertical-align: middle;\n",
       "    }\n",
       "\n",
       "    .dataframe tbody tr th {\n",
       "        vertical-align: top;\n",
       "    }\n",
       "\n",
       "    .dataframe thead th {\n",
       "        text-align: right;\n",
       "    }\n",
       "</style>\n",
       "<table border=\"1\" class=\"dataframe\">\n",
       "  <thead>\n",
       "    <tr style=\"text-align: right;\">\n",
       "      <th></th>\n",
       "      <th>transaction_id</th>\n",
       "      <th>product_id</th>\n",
       "      <th>customer_id</th>\n",
       "      <th>transaction_date</th>\n",
       "      <th>online_order</th>\n",
       "      <th>order_status</th>\n",
       "      <th>brand</th>\n",
       "      <th>product_line</th>\n",
       "      <th>product_class</th>\n",
       "      <th>product_size</th>\n",
       "      <th>...</th>\n",
       "      <th>past_3_years_bike_related_purchases</th>\n",
       "      <th>DOB</th>\n",
       "      <th>job_title</th>\n",
       "      <th>job_industry_category</th>\n",
       "      <th>wealth_segment</th>\n",
       "      <th>deceased_indicator</th>\n",
       "      <th>owns_car</th>\n",
       "      <th>tenure</th>\n",
       "      <th>DOB - Copy</th>\n",
       "      <th>Age</th>\n",
       "    </tr>\n",
       "  </thead>\n",
       "  <tbody>\n",
       "    <tr>\n",
       "      <th>0</th>\n",
       "      <td>1</td>\n",
       "      <td>2</td>\n",
       "      <td>2950</td>\n",
       "      <td>2017-02-25</td>\n",
       "      <td>False</td>\n",
       "      <td>Approved</td>\n",
       "      <td>Solex</td>\n",
       "      <td>Standard</td>\n",
       "      <td>medium</td>\n",
       "      <td>medium</td>\n",
       "      <td>...</td>\n",
       "      <td>19</td>\n",
       "      <td>1955-01-11</td>\n",
       "      <td>Software Engineer I</td>\n",
       "      <td>Financial Services</td>\n",
       "      <td>Mass Customer</td>\n",
       "      <td>N</td>\n",
       "      <td>Yes</td>\n",
       "      <td>10</td>\n",
       "      <td>1955-01-11</td>\n",
       "      <td>68</td>\n",
       "    </tr>\n",
       "    <tr>\n",
       "      <th>1</th>\n",
       "      <td>11065</td>\n",
       "      <td>1</td>\n",
       "      <td>2950</td>\n",
       "      <td>2017-10-16</td>\n",
       "      <td>False</td>\n",
       "      <td>Approved</td>\n",
       "      <td>Giant Bicycles</td>\n",
       "      <td>Standard</td>\n",
       "      <td>medium</td>\n",
       "      <td>medium</td>\n",
       "      <td>...</td>\n",
       "      <td>19</td>\n",
       "      <td>1955-01-11</td>\n",
       "      <td>Software Engineer I</td>\n",
       "      <td>Financial Services</td>\n",
       "      <td>Mass Customer</td>\n",
       "      <td>N</td>\n",
       "      <td>Yes</td>\n",
       "      <td>10</td>\n",
       "      <td>1955-01-11</td>\n",
       "      <td>68</td>\n",
       "    </tr>\n",
       "  </tbody>\n",
       "</table>\n",
       "<p>2 rows × 25 columns</p>\n",
       "</div>"
      ],
      "text/plain": [
       "   transaction_id  product_id  customer_id transaction_date  online_order  \\\n",
       "0               1           2         2950       2017-02-25         False   \n",
       "1           11065           1         2950       2017-10-16         False   \n",
       "\n",
       "  order_status           brand product_line product_class product_size  ...  \\\n",
       "0     Approved           Solex     Standard        medium       medium  ...   \n",
       "1     Approved  Giant Bicycles     Standard        medium       medium  ...   \n",
       "\n",
       "   past_3_years_bike_related_purchases        DOB            job_title  \\\n",
       "0                                   19 1955-01-11  Software Engineer I   \n",
       "1                                   19 1955-01-11  Software Engineer I   \n",
       "\n",
       "  job_industry_category wealth_segment  deceased_indicator owns_car tenure  \\\n",
       "0    Financial Services  Mass Customer                   N      Yes     10   \n",
       "1    Financial Services  Mass Customer                   N      Yes     10   \n",
       "\n",
       "  DOB - Copy Age  \n",
       "0 1955-01-11  68  \n",
       "1 1955-01-11  68  \n",
       "\n",
       "[2 rows x 25 columns]"
      ]
     },
     "execution_count": 26,
     "metadata": {},
     "output_type": "execute_result"
    }
   ],
   "source": [
    "df=df_tran.merge(df_cdemo,on='customer_id')\n",
    "df.head(2)"
   ]
  },
  {
   "cell_type": "code",
   "execution_count": 27,
   "id": "bbe806c1",
   "metadata": {},
   "outputs": [],
   "source": [
    "df.drop(['first_name','last_name'],axis=1)\n",
    "df=df.merge(df_cadd,on='customer_id')"
   ]
  },
  {
   "cell_type": "markdown",
   "id": "6d02fe81",
   "metadata": {},
   "source": [
    "### Exploratory Data Analysis"
   ]
  },
  {
   "cell_type": "markdown",
   "id": "b909d14f",
   "metadata": {},
   "source": [
    "Gender"
   ]
  },
  {
   "cell_type": "code",
   "execution_count": 14,
   "id": "527575e9",
   "metadata": {},
   "outputs": [
    {
     "data": {
      "image/png": "[encoded data removed]",
      "text/plain": [
       "<Figure size 360x360 with 1 Axes>"
      ]
     },
     "metadata": {},
     "output_type": "display_data"
    }
   ],
   "source": [
    "fig ,ax =plt.subplots(figsize=(5,5))\n",
    "table=df.pivot_table(index='gender',values='list_price',aggfunc=np.sum).reset_index()\n",
    "plt.pie(table['list_price'],labels = table['gender'],autopct=\"%1.2f%%\",colors=['#f7c6d8','#91edcb'])\n",
    "plt.title('Sales By Gender')\n",
    "plt.show()"
   ]
  },
  {
   "cell_type": "markdown",
   "id": "195483aa",
   "metadata": {},
   "source": [
    "Age Segment"
   ]
  },
  {
   "cell_type": "code",
   "execution_count": 15,
   "id": "7dc5def4",
   "metadata": {},
   "outputs": [],
   "source": [
    "df['Age_segment'] = pd.cut(df.Age, bins=[10,20,30,40,50,60,70,80,90,100],\n",
    "                           labels = ['10-20','20-30','30-40','40-50','50-60','60-70','70-80','80-90','90-100'])"
   ]
  },
  {
   "cell_type": "code",
   "execution_count": 16,
   "id": "a378ec3c",
   "metadata": {},
   "outputs": [
    {
     "data": {
      "image/png": "[encoded data removed]",
      "text/plain": [
       "<Figure size 576x360 with 1 Axes>"
      ]
     },
     "metadata": {
      "needs_background": "light"
     },
     "output_type": "display_data"
    }
   ],
   "source": [
    "fig,ax=plt.subplots(figsize=(8,5))\n",
    "table=df.pivot_table(index='Age_segment',values='list_price',aggfunc=np.sum).reset_index()\n",
    "figure=sns.barplot(x=table['Age_segment'],y=table['list_price'],palette='Set3')\n",
    "plt.ticklabel_format(style='plain',axis='y')\n",
    "i=0\n",
    "for c in figure.patches:\n",
    "    width,height= c.get_width() , c.get_height()\n",
    "    x,y= c.get_xy()\n",
    "    plt.text(x, y+ height+height/100,\n",
    "             str(round(table.list_price[i]/sum(table.list_price)*100,2))+'%',\n",
    "             size=10,)\n",
    "    i+=1\n",
    "plt.title('Sales By Age Segment',size=15);"
   ]
  },
  {
   "cell_type": "markdown",
   "id": "c8a72372",
   "metadata": {},
   "source": [
    "Wealth Segment"
   ]
  },
  {
   "cell_type": "code",
   "execution_count": 17,
   "id": "18056349",
   "metadata": {},
   "outputs": [
    {
     "data": {
      "image/png": "[encoded data removed]",
      "text/plain": [
       "<Figure size 432x432 with 1 Axes>"
      ]
     },
     "metadata": {},
     "output_type": "display_data"
    }
   ],
   "source": [
    "fig,ax=plt.subplots(figsize=(6,6))\n",
    "table=df.pivot_table(index='wealth_segment',values='list_price',aggfunc=np.sum).reset_index()\n",
    "plt.pie(table['list_price'],labels = table['wealth_segment'],autopct=\"%1.2f%%\",colors=['#f7c6d8','#91edcb','#81b3f0'])\n",
    "plt.title('Sales By Wealth Segment',size=14)\n",
    "plt.show()"
   ]
  },
  {
   "cell_type": "markdown",
   "id": "bf533e35",
   "metadata": {},
   "source": [
    "State"
   ]
  },
  {
   "cell_type": "code",
   "execution_count": 18,
   "id": "38566040",
   "metadata": {
    "scrolled": false
   },
   "outputs": [
    {
     "data": {
      "image/png": "[encoded data removed]",
      "text/plain": [
       "<Figure size 432x432 with 1 Axes>"
      ]
     },
     "metadata": {},
     "output_type": "display_data"
    }
   ],
   "source": [
    "fig,ax=plt.subplots(figsize=(6,6))\n",
    "table=df.pivot_table(index='state',values='list_price',aggfunc=np.sum).reset_index()\n",
    "plt.pie(table['list_price'],labels = table['state'],autopct=\"%1.2f%%\",colors=['#f7c6d8','#91edcb','#81b3f0'])\n",
    "plt.title('Sales By State',size=14)\n",
    "plt.show()"
   ]
  },
  {
   "cell_type": "markdown",
   "id": "036114dd",
   "metadata": {},
   "source": [
    "Job Industry"
   ]
  },
  {
   "cell_type": "code",
   "execution_count": 19,
   "id": "fbffdb89",
   "metadata": {},
   "outputs": [
    {
     "data": {
      "image/png": "[encoded data removed]",
      "text/plain": [
       "<Figure size 576x360 with 1 Axes>"
      ]
     },
     "metadata": {
      "needs_background": "light"
     },
     "output_type": "display_data"
    }
   ],
   "source": [
    "fig,ax = plt.subplots(figsize=(8,5))\n",
    "\n",
    "table=df.pivot_table(index='job_industry_category',values='list_price',aggfunc=np.sum).reset_index()\n",
    "\n",
    "figure = sns.barplot(x=table['job_industry_category'],y=table['list_price'],palette='Set2')\n",
    "plt.ticklabel_format(style='plain',axis='y')\n",
    "plt.xticks(rotation=90)\n",
    "\n",
    "i=0\n",
    "for c in figure.patches:\n",
    "    width,height= c.get_width(), c.get_height()\n",
    "    x,y = c.get_xy()\n",
    "    plt.text(x+0.075,y+height/2,\n",
    "            str(round(table.list_price[i]/sum(table.list_price)*100,2))+'%',\n",
    "             size=10)\n",
    "    i+=1\n",
    "plt.title('Sales by Job Industry',size=15);"
   ]
  },
  {
   "cell_type": "markdown",
   "id": "6cd688f9",
   "metadata": {},
   "source": [
    "Property Valuation and Car ownership"
   ]
  },
  {
   "cell_type": "code",
   "execution_count": 20,
   "id": "8f2e6dd6",
   "metadata": {},
   "outputs": [
    {
     "data": {
      "image/png": "[encoded data removed]",
      "text/plain": [
       "<Figure size 720x504 with 1 Axes>"
      ]
     },
     "metadata": {
      "needs_background": "light"
     },
     "output_type": "display_data"
    }
   ],
   "source": [
    "fig,ax=plt.subplots(figsize=(10,7))\n",
    "\n",
    "table= df.pivot_table(index=[\"property_valuation\",\"owns_car\"],values=\"list_price\", aggfunc=np.sum).reset_index()\n",
    "\n",
    "figure = sns.barplot(x=table['property_valuation'],y=table['list_price'],hue=table['owns_car'],palette='Pastel2')\n",
    "plt.ticklabel_format(style='plain',axis='y')\n",
    "i=0\n",
    "for c in figure.patches:\n",
    "    width,height= c.get_width() , c.get_height()\n",
    "    x,y= c.get_xy()\n",
    "    plt.text(x+.1, y+height/2,\n",
    "             str(round(table.list_price[i]/sum(table.list_price)*100,2))+'%',\n",
    "             size=10,rotation=90)\n",
    "    i+=1\n",
    "    \n",
    "plt.title('Sales by Property Valuation and Car ownership',size=16);"
   ]
  },
  {
   "cell_type": "markdown",
   "id": "fb661a8f",
   "metadata": {},
   "source": [
    "### RFM Metrics Calculation"
   ]
  },
  {
   "cell_type": "code",
   "execution_count": 21,
   "id": "d542c201",
   "metadata": {},
   "outputs": [],
   "source": [
    "max_date = df['transaction_date'].max()"
   ]
  },
  {
   "cell_type": "code",
   "execution_count": 22,
   "id": "65145d4b",
   "metadata": {},
   "outputs": [
    {
     "data": {
      "text/plain": [
       "Timestamp('2017-12-30 00:00:00')"
      ]
     },
     "execution_count": 22,
     "metadata": {},
     "output_type": "execute_result"
    }
   ],
   "source": [
    "max_date"
   ]
  },
  {
   "cell_type": "code",
   "execution_count": 23,
   "id": "7dd492a7",
   "metadata": {},
   "outputs": [],
   "source": [
    "df_rfm = df.groupby(\"customer_id\").agg({'transaction_date': lambda transaction_date : (max_date - transaction_date.max()).days,\n",
    "                                        'past_3_years_bike_related_purchases' : lambda past_3_years_bike_related_purchases: past_3_years_bike_related_purchases.mean(),\n",
    "                                        'list_price': lambda list_price: list_price.sum()\n",
    "                                        })\n",
    "df_rfm.columns=['Recency','Frequency','Monetary']"
   ]
  },
  {
   "cell_type": "code",
   "execution_count": 24,
   "id": "d4f3203f",
   "metadata": {},
   "outputs": [
    {
     "data": {
      "text/html": [
       "<div>\n",
       "<style scoped>\n",
       "    .dataframe tbody tr th:only-of-type {\n",
       "        vertical-align: middle;\n",
       "    }\n",
       "\n",
       "    .dataframe tbody tr th {\n",
       "        vertical-align: top;\n",
       "    }\n",
       "\n",
       "    .dataframe thead th {\n",
       "        text-align: right;\n",
       "    }\n",
       "</style>\n",
       "<table border=\"1\" class=\"dataframe\">\n",
       "  <thead>\n",
       "    <tr style=\"text-align: right;\">\n",
       "      <th></th>\n",
       "      <th>Recency</th>\n",
       "      <th>Frequency</th>\n",
       "      <th>Monetary</th>\n",
       "    </tr>\n",
       "    <tr>\n",
       "      <th>customer_id</th>\n",
       "      <th></th>\n",
       "      <th></th>\n",
       "      <th></th>\n",
       "    </tr>\n",
       "  </thead>\n",
       "  <tbody>\n",
       "    <tr>\n",
       "      <th>1</th>\n",
       "      <td>7</td>\n",
       "      <td>93.0</td>\n",
       "      <td>9084.45</td>\n",
       "    </tr>\n",
       "    <tr>\n",
       "      <th>2</th>\n",
       "      <td>128</td>\n",
       "      <td>81.0</td>\n",
       "      <td>4149.07</td>\n",
       "    </tr>\n",
       "    <tr>\n",
       "      <th>4</th>\n",
       "      <td>195</td>\n",
       "      <td>33.0</td>\n",
       "      <td>1047.72</td>\n",
       "    </tr>\n",
       "    <tr>\n",
       "      <th>5</th>\n",
       "      <td>16</td>\n",
       "      <td>56.0</td>\n",
       "      <td>5903.20</td>\n",
       "    </tr>\n",
       "    <tr>\n",
       "      <th>6</th>\n",
       "      <td>64</td>\n",
       "      <td>35.0</td>\n",
       "      <td>5931.69</td>\n",
       "    </tr>\n",
       "  </tbody>\n",
       "</table>\n",
       "</div>"
      ],
      "text/plain": [
       "             Recency  Frequency  Monetary\n",
       "customer_id                              \n",
       "1                  7       93.0   9084.45\n",
       "2                128       81.0   4149.07\n",
       "4                195       33.0   1047.72\n",
       "5                 16       56.0   5903.20\n",
       "6                 64       35.0   5931.69"
      ]
     },
     "execution_count": 24,
     "metadata": {},
     "output_type": "execute_result"
    }
   ],
   "source": [
    "df_rfm.head()"
   ]
  },
  {
   "cell_type": "code",
   "execution_count": 25,
   "id": "fa27099a",
   "metadata": {},
   "outputs": [],
   "source": [
    "df_rfm['Recency_score'] = pd.qcut(df_rfm['Recency'], 4 ,[4,3,2,1])\n",
    "df_rfm['Frequency_score'] = pd.qcut(df_rfm['Frequency'], 4 ,[1,2,3,4])\n",
    "df_rfm['Monetary_score'] = pd.qcut(df_rfm['Monetary'], 4 ,[1,2,3,4])"
   ]
  },
  {
   "cell_type": "code",
   "execution_count": 26,
   "id": "edfa56f6",
   "metadata": {},
   "outputs": [],
   "source": [
    "df_rfm[\"RFM_class\"] = df_rfm.Recency_score.astype(str)+df_rfm.Frequency_score.astype(str)+df_rfm.Monetary_score.astype(str)\n",
    "df_rfm['RFM_score'] = df_rfm[['Recency_score','Frequency_score','Monetary_score']].astype(int).sum(axis=1)"
   ]
  },
  {
   "cell_type": "code",
   "execution_count": 27,
   "id": "3b95cd39",
   "metadata": {},
   "outputs": [
    {
     "data": {
      "text/html": [
       "<div>\n",
       "<style scoped>\n",
       "    .dataframe tbody tr th:only-of-type {\n",
       "        vertical-align: middle;\n",
       "    }\n",
       "\n",
       "    .dataframe tbody tr th {\n",
       "        vertical-align: top;\n",
       "    }\n",
       "\n",
       "    .dataframe thead th {\n",
       "        text-align: right;\n",
       "    }\n",
       "</style>\n",
       "<table border=\"1\" class=\"dataframe\">\n",
       "  <thead>\n",
       "    <tr style=\"text-align: right;\">\n",
       "      <th></th>\n",
       "      <th>Recency</th>\n",
       "      <th>Frequency</th>\n",
       "      <th>Monetary</th>\n",
       "      <th>Recency_score</th>\n",
       "      <th>Frequency_score</th>\n",
       "      <th>Monetary_score</th>\n",
       "      <th>RFM_class</th>\n",
       "      <th>RFM_score</th>\n",
       "      <th>rfm_label</th>\n",
       "    </tr>\n",
       "    <tr>\n",
       "      <th>customer_id</th>\n",
       "      <th></th>\n",
       "      <th></th>\n",
       "      <th></th>\n",
       "      <th></th>\n",
       "      <th></th>\n",
       "      <th></th>\n",
       "      <th></th>\n",
       "      <th></th>\n",
       "      <th></th>\n",
       "    </tr>\n",
       "  </thead>\n",
       "  <tbody>\n",
       "    <tr>\n",
       "      <th>1</th>\n",
       "      <td>7</td>\n",
       "      <td>93.0</td>\n",
       "      <td>9084.45</td>\n",
       "      <td>4</td>\n",
       "      <td>4</td>\n",
       "      <td>4</td>\n",
       "      <td>444</td>\n",
       "      <td>12</td>\n",
       "      <td>Can't Loose Them</td>\n",
       "    </tr>\n",
       "    <tr>\n",
       "      <th>2</th>\n",
       "      <td>128</td>\n",
       "      <td>81.0</td>\n",
       "      <td>4149.07</td>\n",
       "      <td>1</td>\n",
       "      <td>4</td>\n",
       "      <td>2</td>\n",
       "      <td>142</td>\n",
       "      <td>7</td>\n",
       "      <td>Loyal</td>\n",
       "    </tr>\n",
       "    <tr>\n",
       "      <th>4</th>\n",
       "      <td>195</td>\n",
       "      <td>33.0</td>\n",
       "      <td>1047.72</td>\n",
       "      <td>1</td>\n",
       "      <td>2</td>\n",
       "      <td>1</td>\n",
       "      <td>121</td>\n",
       "      <td>4</td>\n",
       "      <td>Needs Attention</td>\n",
       "    </tr>\n",
       "    <tr>\n",
       "      <th>5</th>\n",
       "      <td>16</td>\n",
       "      <td>56.0</td>\n",
       "      <td>5903.20</td>\n",
       "      <td>4</td>\n",
       "      <td>3</td>\n",
       "      <td>3</td>\n",
       "      <td>433</td>\n",
       "      <td>10</td>\n",
       "      <td>Can't Loose Them</td>\n",
       "    </tr>\n",
       "    <tr>\n",
       "      <th>6</th>\n",
       "      <td>64</td>\n",
       "      <td>35.0</td>\n",
       "      <td>5931.69</td>\n",
       "      <td>2</td>\n",
       "      <td>2</td>\n",
       "      <td>3</td>\n",
       "      <td>223</td>\n",
       "      <td>7</td>\n",
       "      <td>Loyal</td>\n",
       "    </tr>\n",
       "  </tbody>\n",
       "</table>\n",
       "</div>"
      ],
      "text/plain": [
       "             Recency  Frequency  Monetary Recency_score Frequency_score  \\\n",
       "customer_id                                                               \n",
       "1                  7       93.0   9084.45             4               4   \n",
       "2                128       81.0   4149.07             1               4   \n",
       "4                195       33.0   1047.72             1               2   \n",
       "5                 16       56.0   5903.20             4               3   \n",
       "6                 64       35.0   5931.69             2               2   \n",
       "\n",
       "            Monetary_score RFM_class  RFM_score         rfm_label  \n",
       "customer_id                                                        \n",
       "1                        4       444         12  Can't Loose Them  \n",
       "2                        2       142          7             Loyal  \n",
       "4                        1       121          4   Needs Attention  \n",
       "5                        3       433         10  Can't Loose Them  \n",
       "6                        3       223          7             Loyal  "
      ]
     },
     "execution_count": 27,
     "metadata": {},
     "output_type": "execute_result"
    }
   ],
   "source": [
    "def label(x):\n",
    "    if x >= 9:\n",
    "        return \"Can't Loose Them\"\n",
    "    elif ((x >= 8) and (x < 9)):\n",
    "        return 'Champions'\n",
    "    elif ((x >= 7) and (x < 8)):\n",
    "        return 'Loyal'\n",
    "    elif ((x >= 6) and (x < 7)):\n",
    "        return 'Potential'\n",
    "    elif ((x>= 5) and (x < 6)):\n",
    "        return 'Promising'\n",
    "    elif ((x >= 4) and (x < 5)):\n",
    "        return 'Needs Attention'\n",
    "    else:\n",
    "        return 'Require Activation'\n",
    "\n",
    "df_rfm['rfm_label']=df_rfm.RFM_score.apply(label)\n",
    "\n",
    "df_rfm.head()"
   ]
  },
  {
   "cell_type": "code",
   "execution_count": 28,
   "id": "c7a152da",
   "metadata": {},
   "outputs": [],
   "source": [
    "df_rfm.reset_index(inplace=True)"
   ]
  },
  {
   "cell_type": "markdown",
   "id": "58ad8b88",
   "metadata": {},
   "source": [
    "### Model Training"
   ]
  },
  {
   "cell_type": "code",
   "execution_count": 29,
   "id": "dfcb2d4b",
   "metadata": {},
   "outputs": [
    {
     "name": "stderr",
     "output_type": "stream",
     "text": [
      "C:\\Program Files\\KMSpico\\temp\\ipykernel_12320\\3538501200.py:5: SettingWithCopyWarning: \n",
      "A value is trying to be set on a copy of a slice from a DataFrame.\n",
      "Try using .loc[row_indexer,col_indexer] = value instead\n",
      "\n",
      "See the caveats in the documentation: https://pandas.pydata.org/pandas-docs/stable/user_guide/indexing.html#returning-a-view-versus-a-copy\n",
      "  df_model.job_industry_category = df_model.job_industry_category.fillna('Not Applicable')\n"
     ]
    }
   ],
   "source": [
    "df_model= df_cdemo[['customer_id', 'gender',\n",
    "       'past_3_years_bike_related_purchases', 'Age',\n",
    "       'job_industry_category', 'wealth_segment',\n",
    "       'owns_car' ]]\n",
    "df_model.job_industry_category = df_model.job_industry_category.fillna('Not Applicable')"
   ]
  },
  {
   "cell_type": "code",
   "execution_count": 30,
   "id": "292d26e6",
   "metadata": {},
   "outputs": [],
   "source": [
    "df_model = df_model.merge(df_cadd[['customer_id','state','property_valuation']], on='customer_id')\n",
    "df_model = df_model.merge(df_rfm[['customer_id','RFM_score']], on='customer_id')"
   ]
  },
  {
   "cell_type": "code",
   "execution_count": 31,
   "id": "29193ec4",
   "metadata": {},
   "outputs": [
    {
     "data": {
      "text/html": [
       "<div>\n",
       "<style scoped>\n",
       "    .dataframe tbody tr th:only-of-type {\n",
       "        vertical-align: middle;\n",
       "    }\n",
       "\n",
       "    .dataframe tbody tr th {\n",
       "        vertical-align: top;\n",
       "    }\n",
       "\n",
       "    .dataframe thead th {\n",
       "        text-align: right;\n",
       "    }\n",
       "</style>\n",
       "<table border=\"1\" class=\"dataframe\">\n",
       "  <thead>\n",
       "    <tr style=\"text-align: right;\">\n",
       "      <th></th>\n",
       "      <th>customer_id</th>\n",
       "      <th>gender</th>\n",
       "      <th>past_3_years_bike_related_purchases</th>\n",
       "      <th>Age</th>\n",
       "      <th>job_industry_category</th>\n",
       "      <th>wealth_segment</th>\n",
       "      <th>owns_car</th>\n",
       "      <th>state</th>\n",
       "      <th>property_valuation</th>\n",
       "      <th>RFM_score</th>\n",
       "    </tr>\n",
       "  </thead>\n",
       "  <tbody>\n",
       "    <tr>\n",
       "      <th>0</th>\n",
       "      <td>1</td>\n",
       "      <td>F</td>\n",
       "      <td>93</td>\n",
       "      <td>69</td>\n",
       "      <td>Health</td>\n",
       "      <td>Mass Customer</td>\n",
       "      <td>Yes</td>\n",
       "      <td>NSW</td>\n",
       "      <td>10</td>\n",
       "      <td>12</td>\n",
       "    </tr>\n",
       "    <tr>\n",
       "      <th>1</th>\n",
       "      <td>2</td>\n",
       "      <td>M</td>\n",
       "      <td>81</td>\n",
       "      <td>42</td>\n",
       "      <td>Financial Services</td>\n",
       "      <td>Mass Customer</td>\n",
       "      <td>Yes</td>\n",
       "      <td>NSW</td>\n",
       "      <td>10</td>\n",
       "      <td>7</td>\n",
       "    </tr>\n",
       "    <tr>\n",
       "      <th>2</th>\n",
       "      <td>4</td>\n",
       "      <td>M</td>\n",
       "      <td>33</td>\n",
       "      <td>61</td>\n",
       "      <td>IT</td>\n",
       "      <td>Mass Customer</td>\n",
       "      <td>No</td>\n",
       "      <td>QLD</td>\n",
       "      <td>9</td>\n",
       "      <td>4</td>\n",
       "    </tr>\n",
       "    <tr>\n",
       "      <th>3</th>\n",
       "      <td>5</td>\n",
       "      <td>F</td>\n",
       "      <td>56</td>\n",
       "      <td>46</td>\n",
       "      <td>Not Applicable</td>\n",
       "      <td>Affluent Customer</td>\n",
       "      <td>Yes</td>\n",
       "      <td>NSW</td>\n",
       "      <td>4</td>\n",
       "      <td>10</td>\n",
       "    </tr>\n",
       "    <tr>\n",
       "      <th>4</th>\n",
       "      <td>6</td>\n",
       "      <td>M</td>\n",
       "      <td>35</td>\n",
       "      <td>56</td>\n",
       "      <td>Retail</td>\n",
       "      <td>High Net Worth</td>\n",
       "      <td>Yes</td>\n",
       "      <td>VIC</td>\n",
       "      <td>9</td>\n",
       "      <td>7</td>\n",
       "    </tr>\n",
       "  </tbody>\n",
       "</table>\n",
       "</div>"
      ],
      "text/plain": [
       "   customer_id gender  past_3_years_bike_related_purchases  Age  \\\n",
       "0            1      F                                   93   69   \n",
       "1            2      M                                   81   42   \n",
       "2            4      M                                   33   61   \n",
       "3            5      F                                   56   46   \n",
       "4            6      M                                   35   56   \n",
       "\n",
       "  job_industry_category     wealth_segment owns_car state  property_valuation  \\\n",
       "0                Health      Mass Customer      Yes   NSW                  10   \n",
       "1    Financial Services      Mass Customer      Yes   NSW                  10   \n",
       "2                    IT      Mass Customer       No   QLD                   9   \n",
       "3        Not Applicable  Affluent Customer      Yes   NSW                   4   \n",
       "4                Retail     High Net Worth      Yes   VIC                   9   \n",
       "\n",
       "   RFM_score  \n",
       "0         12  \n",
       "1          7  \n",
       "2          4  \n",
       "3         10  \n",
       "4          7  "
      ]
     },
     "execution_count": 31,
     "metadata": {},
     "output_type": "execute_result"
    }
   ],
   "source": [
    "df_model.head()"
   ]
  },
  {
   "cell_type": "code",
   "execution_count": 32,
   "id": "65ca6c3c",
   "metadata": {
    "scrolled": true
   },
   "outputs": [
    {
     "data": {
      "text/plain": [
       "customer_id                            0\n",
       "gender                                 0\n",
       "past_3_years_bike_related_purchases    0\n",
       "Age                                    0\n",
       "job_industry_category                  0\n",
       "wealth_segment                         0\n",
       "owns_car                               0\n",
       "state                                  0\n",
       "property_valuation                     0\n",
       "RFM_score                              0\n",
       "dtype: int64"
      ]
     },
     "execution_count": 32,
     "metadata": {},
     "output_type": "execute_result"
    }
   ],
   "source": [
    "df_model.isnull().sum()"
   ]
  },
  {
   "cell_type": "code",
   "execution_count": 33,
   "id": "b8ceebc4",
   "metadata": {},
   "outputs": [
    {
     "name": "stdout",
     "output_type": "stream",
     "text": [
      "Note: you may need to restart the kernel to use updated packages.\n"
     ]
    }
   ],
   "source": [
    "pip install catboost --quiet"
   ]
  },
  {
   "cell_type": "code",
   "execution_count": 34,
   "id": "0419af30",
   "metadata": {},
   "outputs": [],
   "source": [
    "from sklearn.model_selection import train_test_split\n",
    "X_train, X_test, y_train, y_test = train_test_split(df_model.drop(['customer_id','RFM_score'],axis=1),df_model['RFM_score'], test_size=0.2, random_state=0, shuffle=True)"
   ]
  },
  {
   "cell_type": "code",
   "execution_count": 35,
   "id": "5f965d08",
   "metadata": {},
   "outputs": [
    {
     "data": {
      "text/plain": [
       "<catboost.core.CatBoostRegressor at 0x25bc4abc520>"
      ]
     },
     "execution_count": 35,
     "metadata": {},
     "output_type": "execute_result"
    }
   ],
   "source": [
    "import catboost as cat\n",
    "cat_feat = ['gender','job_industry_category', 'wealth_segment', 'owns_car','state']\n",
    "model = cat.CatBoostRegressor(random_state=100,cat_features=cat_feat,verbose=0)\n",
    "model.fit(X_train,y_train)"
   ]
  },
  {
   "cell_type": "code",
   "execution_count": 36,
   "id": "31beffe3",
   "metadata": {},
   "outputs": [],
   "source": [
    "y_pred=model.predict(X_test)"
   ]
  },
  {
   "cell_type": "code",
   "execution_count": 37,
   "id": "d71d342b",
   "metadata": {},
   "outputs": [
    {
     "name": "stdout",
     "output_type": "stream",
     "text": [
      "Accuracy:  75.8 %\n"
     ]
    }
   ],
   "source": [
    "map_error= np.mean(np.abs((y_test - y_pred) / y_test)) * 100\n",
    "print(\"Accuracy: \", round(100- map_error,2),\"%\")"
   ]
  },
  {
   "cell_type": "code",
   "execution_count": 38,
   "id": "73e1f768",
   "metadata": {},
   "outputs": [
    {
     "data": {
      "text/plain": [
       "3500"
      ]
     },
     "execution_count": 38,
     "metadata": {},
     "output_type": "execute_result"
    }
   ],
   "source": [
    "df_model['customer_id'].max()"
   ]
  },
  {
   "cell_type": "markdown",
   "id": "9755db3e",
   "metadata": {},
   "source": [
    "### Predictions"
   ]
  },
  {
   "cell_type": "code",
   "execution_count": 39,
   "id": "6eeafc69",
   "metadata": {},
   "outputs": [],
   "source": [
    "df_newC['id'] = list(range(5000,5000+len(df_newC)))"
   ]
  },
  {
   "cell_type": "code",
   "execution_count": 40,
   "id": "e15819da",
   "metadata": {},
   "outputs": [],
   "source": [
    "df_pred=df_newC[['id',\n",
    "                'gender', \n",
    "                'past_3_years_bike_related_purchases', \n",
    "                'Age', \n",
    "                'job_industry_category', \n",
    "                'wealth_segment',\n",
    "                'owns_car',  \n",
    "                'state', \n",
    "                'property_valuation'\n",
    "                ]]"
   ]
  },
  {
   "cell_type": "code",
   "execution_count": 41,
   "id": "51e4072d",
   "metadata": {},
   "outputs": [
    {
     "data": {
      "text/plain": [
       "id                                       0\n",
       "gender                                   0\n",
       "past_3_years_bike_related_purchases      0\n",
       "Age                                     17\n",
       "job_industry_category                  165\n",
       "wealth_segment                           0\n",
       "owns_car                                 0\n",
       "state                                    0\n",
       "property_valuation                       0\n",
       "dtype: int64"
      ]
     },
     "execution_count": 41,
     "metadata": {},
     "output_type": "execute_result"
    }
   ],
   "source": [
    "df_pred.isnull().sum()"
   ]
  },
  {
   "cell_type": "code",
   "execution_count": 42,
   "id": "af448c1b",
   "metadata": {},
   "outputs": [
    {
     "name": "stderr",
     "output_type": "stream",
     "text": [
      "C:\\Program Files\\KMSpico\\temp\\ipykernel_12320\\3267916903.py:1: SettingWithCopyWarning: \n",
      "A value is trying to be set on a copy of a slice from a DataFrame.\n",
      "Try using .loc[row_indexer,col_indexer] = value instead\n",
      "\n",
      "See the caveats in the documentation: https://pandas.pydata.org/pandas-docs/stable/user_guide/indexing.html#returning-a-view-versus-a-copy\n",
      "  df_pred.job_industry_category= df_pred.job_industry_category.fillna(\"Not Available\")\n",
      "C:\\Program Files\\KMSpico\\temp\\ipykernel_12320\\3267916903.py:2: SettingWithCopyWarning: \n",
      "A value is trying to be set on a copy of a slice from a DataFrame.\n",
      "Try using .loc[row_indexer,col_indexer] = value instead\n",
      "\n",
      "See the caveats in the documentation: https://pandas.pydata.org/pandas-docs/stable/user_guide/indexing.html#returning-a-view-versus-a-copy\n",
      "  df_pred.Age=df_pred.Age.fillna(df_pred['Age'].mean())\n"
     ]
    }
   ],
   "source": [
    "df_pred.job_industry_category= df_pred.job_industry_category.fillna(\"Not Available\")     \n",
    "df_pred.Age=df_pred.Age.fillna(df_pred['Age'].mean())"
   ]
  },
  {
   "cell_type": "code",
   "execution_count": 43,
   "id": "486c2bca",
   "metadata": {},
   "outputs": [],
   "source": [
    "rfm=model.predict(df_pred[[\n",
    "                'gender', \n",
    "                'past_3_years_bike_related_purchases', \n",
    "                'Age', \n",
    "                'job_industry_category', \n",
    "                'wealth_segment',\n",
    "                'owns_car',  \n",
    "                'state', \n",
    "                'property_valuation'\n",
    "                ]])"
   ]
  },
  {
   "cell_type": "code",
   "execution_count": 44,
   "id": "0a29f2e6",
   "metadata": {},
   "outputs": [
    {
     "name": "stderr",
     "output_type": "stream",
     "text": [
      "C:\\Program Files\\KMSpico\\temp\\ipykernel_12320\\744161844.py:1: SettingWithCopyWarning: \n",
      "A value is trying to be set on a copy of a slice from a DataFrame.\n",
      "Try using .loc[row_indexer,col_indexer] = value instead\n",
      "\n",
      "See the caveats in the documentation: https://pandas.pydata.org/pandas-docs/stable/user_guide/indexing.html#returning-a-view-versus-a-copy\n",
      "  df_pred['rfm_pred'] = rfm\n"
     ]
    }
   ],
   "source": [
    "df_pred['rfm_pred'] = rfm"
   ]
  },
  {
   "cell_type": "code",
   "execution_count": 45,
   "id": "d8a9c1e6",
   "metadata": {},
   "outputs": [],
   "source": [
    "df_pred= df_newC[['id', 'first_name', 'last_name', 'gender','past_3_years_bike_related_purchases', \n",
    "                'DOB', 'Age', 'job_title','job_industry_category', 'wealth_segment', 'deceased_indicator',\n",
    "                'owns_car', 'tenure', 'address', 'postcode', 'state', 'country',\n",
    "                'property_valuation']].merge(df_pred[['id','rfm_pred']]).sort_values('rfm_pred',ascending=False)"
   ]
  },
  {
   "cell_type": "code",
   "execution_count": 46,
   "id": "36aff51e",
   "metadata": {},
   "outputs": [
    {
     "data": {
      "text/html": [
       "<div>\n",
       "<style scoped>\n",
       "    .dataframe tbody tr th:only-of-type {\n",
       "        vertical-align: middle;\n",
       "    }\n",
       "\n",
       "    .dataframe tbody tr th {\n",
       "        vertical-align: top;\n",
       "    }\n",
       "\n",
       "    .dataframe thead th {\n",
       "        text-align: right;\n",
       "    }\n",
       "</style>\n",
       "<table border=\"1\" class=\"dataframe\">\n",
       "  <thead>\n",
       "    <tr style=\"text-align: right;\">\n",
       "      <th></th>\n",
       "      <th>id</th>\n",
       "      <th>first_name</th>\n",
       "      <th>last_name</th>\n",
       "      <th>gender</th>\n",
       "      <th>past_3_years_bike_related_purchases</th>\n",
       "      <th>DOB</th>\n",
       "      <th>Age</th>\n",
       "      <th>job_title</th>\n",
       "      <th>job_industry_category</th>\n",
       "      <th>wealth_segment</th>\n",
       "      <th>deceased_indicator</th>\n",
       "      <th>owns_car</th>\n",
       "      <th>tenure</th>\n",
       "      <th>address</th>\n",
       "      <th>postcode</th>\n",
       "      <th>state</th>\n",
       "      <th>country</th>\n",
       "      <th>property_valuation</th>\n",
       "      <th>rfm_pred</th>\n",
       "    </tr>\n",
       "  </thead>\n",
       "  <tbody>\n",
       "    <tr>\n",
       "      <th>634</th>\n",
       "      <td>5634</td>\n",
       "      <td>Shellysheldon</td>\n",
       "      <td>Bichard</td>\n",
       "      <td>M</td>\n",
       "      <td>96</td>\n",
       "      <td>1954-01-06</td>\n",
       "      <td>69.0</td>\n",
       "      <td>Desktop Support Technician</td>\n",
       "      <td>Financial Services</td>\n",
       "      <td>Mass Customer</td>\n",
       "      <td>N</td>\n",
       "      <td>Yes</td>\n",
       "      <td>16</td>\n",
       "      <td>7199 Springview Parkway</td>\n",
       "      <td>4503</td>\n",
       "      <td>QLD</td>\n",
       "      <td>Australia</td>\n",
       "      <td>5</td>\n",
       "      <td>9.965437</td>\n",
       "    </tr>\n",
       "    <tr>\n",
       "      <th>554</th>\n",
       "      <td>5554</td>\n",
       "      <td>Jacqui</td>\n",
       "      <td>Devey</td>\n",
       "      <td>F</td>\n",
       "      <td>79</td>\n",
       "      <td>1995-10-01</td>\n",
       "      <td>27.0</td>\n",
       "      <td>Analyst Programmer</td>\n",
       "      <td>Financial Services</td>\n",
       "      <td>High Net Worth</td>\n",
       "      <td>N</td>\n",
       "      <td>Yes</td>\n",
       "      <td>13</td>\n",
       "      <td>656 Kennedy Crossing</td>\n",
       "      <td>2261</td>\n",
       "      <td>NSW</td>\n",
       "      <td>Australia</td>\n",
       "      <td>8</td>\n",
       "      <td>9.887724</td>\n",
       "    </tr>\n",
       "    <tr>\n",
       "      <th>783</th>\n",
       "      <td>5783</td>\n",
       "      <td>Calhoun</td>\n",
       "      <td>Mussington</td>\n",
       "      <td>M</td>\n",
       "      <td>98</td>\n",
       "      <td>1992-10-13</td>\n",
       "      <td>30.0</td>\n",
       "      <td>Dental Hygienist</td>\n",
       "      <td>Health</td>\n",
       "      <td>Mass Customer</td>\n",
       "      <td>N</td>\n",
       "      <td>No</td>\n",
       "      <td>12</td>\n",
       "      <td>176 Fallview Plaza</td>\n",
       "      <td>2019</td>\n",
       "      <td>NSW</td>\n",
       "      <td>Australia</td>\n",
       "      <td>9</td>\n",
       "      <td>9.724772</td>\n",
       "    </tr>\n",
       "    <tr>\n",
       "      <th>359</th>\n",
       "      <td>5359</td>\n",
       "      <td>Pace</td>\n",
       "      <td>Clemonts</td>\n",
       "      <td>M</td>\n",
       "      <td>99</td>\n",
       "      <td>1990-07-28</td>\n",
       "      <td>33.0</td>\n",
       "      <td>Media Manager IV</td>\n",
       "      <td>Retail</td>\n",
       "      <td>High Net Worth</td>\n",
       "      <td>N</td>\n",
       "      <td>No</td>\n",
       "      <td>10</td>\n",
       "      <td>335 Cambridge Hill</td>\n",
       "      <td>3122</td>\n",
       "      <td>VIC</td>\n",
       "      <td>Australia</td>\n",
       "      <td>7</td>\n",
       "      <td>9.665261</td>\n",
       "    </tr>\n",
       "    <tr>\n",
       "      <th>288</th>\n",
       "      <td>5288</td>\n",
       "      <td>Giana</td>\n",
       "      <td>Staresmeare</td>\n",
       "      <td>F</td>\n",
       "      <td>96</td>\n",
       "      <td>1976-04-20</td>\n",
       "      <td>47.0</td>\n",
       "      <td>Account Representative IV</td>\n",
       "      <td>Retail</td>\n",
       "      <td>Affluent Customer</td>\n",
       "      <td>N</td>\n",
       "      <td>Yes</td>\n",
       "      <td>9</td>\n",
       "      <td>8737 Scoville Center</td>\n",
       "      <td>2770</td>\n",
       "      <td>NSW</td>\n",
       "      <td>Australia</td>\n",
       "      <td>7</td>\n",
       "      <td>9.637000</td>\n",
       "    </tr>\n",
       "  </tbody>\n",
       "</table>\n",
       "</div>"
      ],
      "text/plain": [
       "       id     first_name    last_name gender  \\\n",
       "634  5634  Shellysheldon      Bichard      M   \n",
       "554  5554         Jacqui        Devey      F   \n",
       "783  5783        Calhoun   Mussington      M   \n",
       "359  5359           Pace     Clemonts      M   \n",
       "288  5288          Giana  Staresmeare      F   \n",
       "\n",
       "     past_3_years_bike_related_purchases        DOB   Age  \\\n",
       "634                                   96 1954-01-06  69.0   \n",
       "554                                   79 1995-10-01  27.0   \n",
       "783                                   98 1992-10-13  30.0   \n",
       "359                                   99 1990-07-28  33.0   \n",
       "288                                   96 1976-04-20  47.0   \n",
       "\n",
       "                      job_title job_industry_category     wealth_segment  \\\n",
       "634  Desktop Support Technician    Financial Services      Mass Customer   \n",
       "554          Analyst Programmer    Financial Services     High Net Worth   \n",
       "783            Dental Hygienist                Health      Mass Customer   \n",
       "359            Media Manager IV                Retail     High Net Worth   \n",
       "288   Account Representative IV                Retail  Affluent Customer   \n",
       "\n",
       "    deceased_indicator owns_car  tenure                  address  postcode  \\\n",
       "634                  N      Yes      16  7199 Springview Parkway      4503   \n",
       "554                  N      Yes      13     656 Kennedy Crossing      2261   \n",
       "783                  N       No      12       176 Fallview Plaza      2019   \n",
       "359                  N       No      10       335 Cambridge Hill      3122   \n",
       "288                  N      Yes       9     8737 Scoville Center      2770   \n",
       "\n",
       "    state    country  property_valuation  rfm_pred  \n",
       "634   QLD  Australia                   5  9.965437  \n",
       "554   NSW  Australia                   8  9.887724  \n",
       "783   NSW  Australia                   9  9.724772  \n",
       "359   VIC  Australia                   7  9.665261  \n",
       "288   NSW  Australia                   7  9.637000  "
      ]
     },
     "execution_count": 46,
     "metadata": {},
     "output_type": "execute_result"
    }
   ],
   "source": [
    "df_pred.head()"
   ]
  },
  {
   "cell_type": "code",
   "execution_count": 47,
   "id": "2608b6cd",
   "metadata": {},
   "outputs": [],
   "source": [
    "#df_pred.to_csv(\"MostValuableCustomers.csv\")"
   ]
  },
  {
   "cell_type": "code",
   "execution_count": null,
   "id": "79ca7167",
   "metadata": {},
   "outputs": [],
   "source": []
  }
 ],
 "metadata": {
  "kernelspec": {
   "display_name": "Python 3 (ipykernel)",
   "language": "python",
   "name": "python3"
  },
  "language_info": {
   "codemirror_mode": {
    "name": "ipython",
    "version": 3
   },
   "file_extension": ".py",
   "mimetype": "text/x-python",
   "name": "python",
   "nbconvert_exporter": "python",
   "pygments_lexer": "ipython3",
   "version": "3.9.12"
  }
 },
 "nbformat": 4,
 "nbformat_minor": 5
}
